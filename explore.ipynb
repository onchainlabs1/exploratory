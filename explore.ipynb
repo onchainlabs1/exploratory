{
  "nbformat": 4,
  "nbformat_minor": 0,
  "metadata": {
    "colab": {
      "provenance": []
    },
    "kernelspec": {
      "name": "python3",
      "display_name": "Python 3"
    },
    "language_info": {
      "name": "python"
    }
  },
  "cells": [
    {
      "cell_type": "code",
      "execution_count": null,
      "metadata": {
        "collapsed": true,
        "id": "jGteimdLXyJU"
      },
      "outputs": [],
      "source": [
        "# Install dependencies\n",
        "!pip install datasets\n",
        "!pip install pandas\n",
        "!pip install seaborn\n"
      ]
    },
    {
      "cell_type": "code",
      "source": [
        "# Import necessary libraries\n",
        "import pandas as pd\n",
        "import seaborn as sns\n",
        "import matplotlib.pyplot as plt\n",
        "from datasets import load_dataset\n",
        "\n",
        "# Load the IMDB dataset\n",
        "imdb = load_dataset('imdb')\n"
      ],
      "metadata": {
        "collapsed": true,
        "id": "7gsZzwsDYMDa"
      },
      "execution_count": null,
      "outputs": []
    },
    {
      "cell_type": "code",
      "source": [
        "# Convert the dataset into a pandas DataFrame for easier manipulation\n",
        "df = pd.DataFrame(imdb['train'])\n"
      ],
      "metadata": {
        "id": "M4NEVJiHYdo6"
      },
      "execution_count": null,
      "outputs": []
    },
    {
      "cell_type": "code",
      "source": [
        "# Display the first few rows of the DataFrame\n",
        "print(df.head())\n"
      ],
      "metadata": {
        "id": "oTVEWWqFZFAw"
      },
      "execution_count": null,
      "outputs": []
    },
    {
      "cell_type": "code",
      "source": [
        "# Display basic statistical descriptions\n",
        "print(df.describe())\n"
      ],
      "metadata": {
        "id": "lEdFH5C5ZHhr"
      },
      "execution_count": null,
      "outputs": []
    },
    {
      "cell_type": "code",
      "source": [
        "# Count the number of each type of review (positive/negative)\n",
        "sentiment_counts = df['label'].value_counts()\n",
        "print(sentiment_counts)\n"
      ],
      "metadata": {
        "id": "5SN9CdIpZLH4"
      },
      "execution_count": null,
      "outputs": []
    },
    {
      "cell_type": "code",
      "source": [
        "# Plot the distribution of sentiments\n",
        "plt.figure(figsize=(8, 6))\n",
        "sns.barplot(x=sentiment_counts.index, y=sentiment_counts.values)\n",
        "plt.title('Distribution of Sentiments')\n",
        "plt.xlabel('Sentiment')\n",
        "plt.ylabel('Number of Reviews')\n",
        "plt.show()\n"
      ],
      "metadata": {
        "id": "ry7S4jkRZpPh"
      },
      "execution_count": null,
      "outputs": []
    },
    {
      "cell_type": "code",
      "source": [
        "# Add a column for text length\n",
        "df['text_length'] = df['text'].apply(len)\n"
      ],
      "metadata": {
        "id": "Fb2Ki5rnZsxx"
      },
      "execution_count": null,
      "outputs": []
    },
    {
      "cell_type": "code",
      "source": [
        "# Plot the distribution of text lengths\n",
        "plt.figure(figsize=(10, 8))\n",
        "sns.histplot(df['text_length'], bins=50, kde=True)\n",
        "plt.title('Distribution of Text Lengths')\n",
        "plt.xlabel('Text Length')\n",
        "plt.ylabel('Frequency')\n",
        "plt.show()\n"
      ],
      "metadata": {
        "id": "UeW0DFH8Zwt7"
      },
      "execution_count": null,
      "outputs": []
    },
    {
      "cell_type": "code",
      "source": [
        "# Check for missing values\n",
        "missing_values = df.isnull().sum()\n",
        "print(\"Missing values in each column:\\n\", missing_values)\n"
      ],
      "metadata": {
        "id": "KtoyZOS5Z1IM"
      },
      "execution_count": null,
      "outputs": []
    },
    {
      "cell_type": "code",
      "source": [
        "# Drop duplicates\n",
        "df = df.drop_duplicates()\n",
        "print(\"Dataframe shape after dropping duplicates:\", df.shape)\n"
      ],
      "metadata": {
        "id": "akF_FXkXZ7KH"
      },
      "execution_count": null,
      "outputs": []
    }
  ]
}