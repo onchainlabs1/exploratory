{
  "nbformat": 4,
  "nbformat_minor": 0,
  "metadata": {
    "colab": {
      "provenance": []
    },
    "kernelspec": {
      "name": "python3",
      "display_name": "Python 3"
    },
    "language_info": {
      "name": "python"
    }
  },
  "cells": [
    {
      "cell_type": "code",
      "execution_count": null,
      "metadata": {
        "collapsed": true,
        "id": "jGteimdLXyJU"
      },
      "outputs": [],
      "source": [
        "# Install dependencies\n",
        "!pip install datasets\n",
        "!pip install pandas\n",
        "!pip install seaborn\n",
        "!pip install datasets pandas seaborn nltk\n",
        "!pip install nltk\n",
        "\n"
      ]
    },
    {
      "cell_type": "code",
      "source": [
        "# Import necessary libraries\n",
        "import pandas as pd\n",
        "import seaborn as sns\n",
        "import matplotlib.pyplot as plt\n",
        "from datasets import load_dataset\n",
        "import nltk\n",
        "from nltk.corpus import stopwords\n",
        "from nltk.tokenize import word_tokenize\n",
        "\n",
        "\n",
        "# Download stopwords and tokenizer from NLTK\n",
        "nltk.download('stopwords')\n",
        "nltk.download('punkt')\n",
        "\n",
        "# Load the IMDB dataset\n",
        "imdb = load_dataset('imdb')\n",
        "\n",
        "# Convert the dataset into a pandas DataFrame for easier manipulation\n",
        "df = pd.DataFrame(imdb['train'])\n",
        "\n",
        "# Add a column for text length\n",
        "df['text_length'] = df['text'].apply(len)\n",
        "\n",
        "# Map labels to 'negative' and 'positive' for easier interpretation\n",
        "df['sentiment'] = df['label'].map({0: 'negative', 1: 'positive'})\n",
        "\n",
        "\n",
        "\n"
      ],
      "metadata": {
        "collapsed": true,
        "id": "7gsZzwsDYMDa"
      },
      "execution_count": null,
      "outputs": []
    },
    {
      "cell_type": "code",
      "source": [
        "# Convert the dataset into a pandas DataFrame for easier manipulation\n",
        "df = pd.DataFrame(imdb['train'])\n"
      ],
      "metadata": {
        "id": "M4NEVJiHYdo6"
      },
      "execution_count": null,
      "outputs": []
    },
    {
      "cell_type": "code",
      "source": [
        "# Display the first few rows of the DataFrame\n",
        "print(df.head())\n"
      ],
      "metadata": {
        "collapsed": true,
        "id": "oTVEWWqFZFAw"
      },
      "execution_count": null,
      "outputs": []
    },
    {
      "cell_type": "code",
      "source": [
        "# Display basic statistical descriptions\n",
        "print(df.describe())\n"
      ],
      "metadata": {
        "collapsed": true,
        "id": "lEdFH5C5ZHhr"
      },
      "execution_count": null,
      "outputs": []
    },
    {
      "cell_type": "code",
      "source": [
        "# Count the number of each type of review (positive/negative)\n",
        "sentiment_counts = df['label'].value_counts()\n",
        "print(sentiment_counts)\n"
      ],
      "metadata": {
        "collapsed": true,
        "id": "5SN9CdIpZLH4"
      },
      "execution_count": null,
      "outputs": []
    },
    {
      "cell_type": "code",
      "source": [
        "# Plot the distribution of sentiments\n",
        "plt.figure(figsize=(8, 6))\n",
        "sns.barplot(x=sentiment_counts.index, y=sentiment_counts.values)\n",
        "plt.title('Distribution of Sentiments')\n",
        "plt.xlabel('Sentiment')\n",
        "plt.ylabel('Number of Reviews')\n",
        "plt.show()\n"
      ],
      "metadata": {
        "collapsed": true,
        "id": "ry7S4jkRZpPh"
      },
      "execution_count": null,
      "outputs": []
    },
    {
      "cell_type": "code",
      "source": [
        "# Add a column for text length\n",
        "df['text_length'] = df['text'].apply(len)\n"
      ],
      "metadata": {
        "id": "Fb2Ki5rnZsxx"
      },
      "execution_count": null,
      "outputs": []
    },
    {
      "cell_type": "code",
      "source": [
        "# Plot the distribution of text lengths\n",
        "plt.figure(figsize=(10, 8))\n",
        "sns.histplot(df['text_length'], bins=50, kde=True)\n",
        "plt.title('Distribution of Text Lengths')\n",
        "plt.xlabel('Text Length')\n",
        "plt.ylabel('Frequency')\n",
        "plt.show()\n"
      ],
      "metadata": {
        "collapsed": true,
        "id": "UeW0DFH8Zwt7"
      },
      "execution_count": null,
      "outputs": []
    },
    {
      "cell_type": "code",
      "source": [
        "# Check for missing values\n",
        "missing_values = df.isnull().sum()\n",
        "print(\"Missing values in each column:\\n\", missing_values)\n"
      ],
      "metadata": {
        "id": "KtoyZOS5Z1IM"
      },
      "execution_count": null,
      "outputs": []
    },
    {
      "cell_type": "code",
      "source": [
        "# Drop duplicates\n",
        "df = df.drop_duplicates()\n",
        "print(\"Dataframe shape after dropping duplicates:\", df.shape)\n"
      ],
      "metadata": {
        "id": "akF_FXkXZ7KH"
      },
      "execution_count": null,
      "outputs": []
    },
    {
      "cell_type": "code",
      "source": [
        "# Ensure that the 'sentiment' column is added properly\n",
        "df['sentiment'] = df['label'].map({0: 'negative', 1: 'positive'})\n",
        "\n",
        "# Verify that the column exists\n",
        "print(df.head())  # This will show the first few rows of the DataFrame including the 'sentiment' column\n",
        "\n"
      ],
      "metadata": {
        "collapsed": true,
        "id": "zamVfTrym0jS"
      },
      "execution_count": null,
      "outputs": []
    },
    {
      "cell_type": "code",
      "source": [
        "# Plotting the boxplot for text length by sentiment\n",
        "plt.figure(figsize=(10, 6))\n",
        "sns.boxplot(x='sentiment', y='text_length', data=df)\n",
        "plt.title('Boxplot of Text Lengths by Sentiment')\n",
        "plt.xlabel('Sentiment')\n",
        "plt.ylabel('Text Length')\n",
        "plt.show()\n",
        "\n"
      ],
      "metadata": {
        "collapsed": true,
        "id": "i202ZSNx0olM"
      },
      "execution_count": null,
      "outputs": []
    },
    {
      "cell_type": "code",
      "source": [
        "# Ensure nltk resources are downloaded\n",
        "nltk.download('stopwords')\n",
        "nltk.download('punkt')\n",
        "\n",
        "# Function to plot word frequency\n",
        "def plot_word_frequency(texts, title):\n",
        "    words = ' '.join(texts).lower()\n",
        "    words = word_tokenize(words)\n",
        "    words = [word for word in words if word.isalpha() and word not in stopwords.words('english')]\n",
        "\n",
        "    freq_dist = nltk.FreqDist(words)\n",
        "    freq_dist = pd.DataFrame(freq_dist.most_common(20), columns=['Word', 'Frequency'])\n",
        "\n",
        "    plt.figure(figsize=(12, 8))\n",
        "    sns.barplot(x='Frequency', y='Word', data=freq_dist)\n",
        "    plt.title(f'Top 20 Words in {title}')\n",
        "    plt.xlabel('Frequency')\n",
        "    plt.ylabel('Word')\n",
        "    plt.show()\n",
        "\n",
        "# Example of how to use the function\n",
        "# Ensure that this line is in the same cell or that the previous cells have been executed in the current session\n",
        "plot_word_frequency(df[df['label'] == 0]['text'], 'Negative Reviews')\n",
        "plot_word_frequency(df[df['label'] == 1]['text'], 'Positive Reviews')\n",
        "\n"
      ],
      "metadata": {
        "collapsed": true,
        "id": "DSmkbEr9Agv0"
      },
      "execution_count": null,
      "outputs": []
    }
  ]
}