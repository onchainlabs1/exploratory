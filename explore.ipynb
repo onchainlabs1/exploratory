{
  "cells": [
    {
      "cell_type": "code",
      "execution_count": null,
      "metadata": {
        "collapsed": true,
        "id": "jGteimdLXyJU"
      },
      "outputs": [],
      "source": [
        "# Install dependencies\n",
        "!pip install datasets\n",
        "!pip install pandas\n",
        "!pip install seaborn\n",
        "!pip install datasets pandas seaborn nltk\n",
        "!pip install nltk\n",
        "!pip install wordcloud\n",
        "\n",
        "\n"
      ]
    },
    {
      "cell_type": "code",
      "execution_count": null,
      "metadata": {
        "collapsed": true,
        "id": "7gsZzwsDYMDa"
      },
      "outputs": [],
      "source": [
        "# Import necessary libraries\n",
        "import pandas as pd\n",
        "import seaborn as sns\n",
        "import matplotlib.pyplot as plt\n",
        "from datasets import load_dataset\n",
        "import nltk\n",
        "from nltk.corpus import stopwords\n",
        "from nltk.tokenize import word_tokenize\n",
        "from wordcloud import WordCloud\n",
        "\n",
        "\n",
        "\n",
        "# Download stopwords and tokenizer from NLTK\n",
        "nltk.download('stopwords')\n",
        "nltk.download('punkt')\n",
        "\n",
        "# Load the IMDB dataset\n",
        "imdb = load_dataset('imdb')\n",
        "\n",
        "# Convert the dataset into a pandas DataFrame for easier manipulation\n",
        "df = pd.DataFrame(imdb['train'])\n",
        "\n",
        "# Add a column for text length\n",
        "df['text_length'] = df['text'].apply(len)\n",
        "\n",
        "# Map labels to 'negative' and 'positive' for easier interpretation\n",
        "df['sentiment'] = df['label'].map({0: 'negative', 1: 'positive'})\n",
        "\n",
        "\n",
        "\n"
      ]
    },
    {
      "cell_type": "code",
      "execution_count": null,
      "metadata": {
        "id": "M4NEVJiHYdo6"
      },
      "outputs": [],
      "source": [
        "# Convert the dataset into a pandas DataFrame for easier manipulation\n",
        "df = pd.DataFrame(imdb['train'])\n"
      ]
    },
    {
      "cell_type": "code",
      "execution_count": null,
      "metadata": {
        "collapsed": true,
        "id": "oTVEWWqFZFAw"
      },
      "outputs": [],
      "source": [
        "# Display the first few rows of the DataFrame\n",
        "print(df.head())\n"
      ]
    },
    {
      "cell_type": "code",
      "execution_count": null,
      "metadata": {
        "collapsed": true,
        "id": "lEdFH5C5ZHhr"
      },
      "outputs": [],
      "source": [
        "# Display basic statistical descriptions\n",
        "print(df.describe())\n"
      ]
    },
    {
      "cell_type": "code",
      "execution_count": null,
      "metadata": {
        "collapsed": true,
        "id": "5SN9CdIpZLH4"
      },
      "outputs": [],
      "source": [
        "# Count the number of each type of review (positive/negative)\n",
        "sentiment_counts = df['label'].value_counts()\n",
        "print(sentiment_counts)\n"
      ]
    },
    {
      "cell_type": "code",
      "execution_count": null,
      "metadata": {
        "id": "Fb2Ki5rnZsxx"
      },
      "outputs": [],
      "source": [
        "# Add a column for text length\n",
        "df['text_length'] = df['text'].apply(len)\n"
      ]
    },
    {
      "cell_type": "code",
      "execution_count": null,
      "metadata": {
        "collapsed": true,
        "id": "UeW0DFH8Zwt7"
      },
      "outputs": [],
      "source": [
        "# Plot the distribution of text lengths\n",
        "plt.figure(figsize=(10, 8))\n",
        "sns.histplot(df['text_length'], bins=50, kde=True)\n",
        "plt.title('Distribution of Text Lengths')\n",
        "plt.xlabel('Text Length')\n",
        "plt.ylabel('Frequency')\n",
        "plt.show()\n"
      ]
    },
    {
      "cell_type": "code",
      "execution_count": null,
      "metadata": {
        "id": "KtoyZOS5Z1IM"
      },
      "outputs": [],
      "source": [
        "# Check for missing values\n",
        "missing_values = df.isnull().sum()\n",
        "print(\"Missing values in each column:\\n\", missing_values)\n"
      ]
    },
    {
      "cell_type": "code",
      "execution_count": null,
      "metadata": {
        "id": "akF_FXkXZ7KH"
      },
      "outputs": [],
      "source": [
        "# Drop duplicates\n",
        "df = df.drop_duplicates()\n",
        "print(\"Dataframe shape after dropping duplicates:\", df.shape)\n"
      ]
    },
    {
      "cell_type": "code",
      "execution_count": null,
      "metadata": {
        "collapsed": true,
        "id": "zamVfTrym0jS"
      },
      "outputs": [],
      "source": [
        "# Ensure that the 'sentiment' column is added properly\n",
        "df['sentiment'] = df['label'].map({0: 'negative', 1: 'positive'})\n",
        "\n",
        "# Verify that the column exists\n",
        "print(df.head())  # This will show the first few rows of the DataFrame including the 'sentiment' column\n",
        "\n"
      ]
    },
    {
      "cell_type": "code",
      "execution_count": null,
      "metadata": {
        "collapsed": true,
        "id": "i202ZSNx0olM"
      },
      "outputs": [],
      "source": [
        "# Plotting the boxplot for text length by sentiment\n",
        "plt.figure(figsize=(10, 6))\n",
        "sns.boxplot(x='sentiment', y='text_length', data=df)\n",
        "plt.title('Boxplot of Text Lengths by Sentiment')\n",
        "plt.xlabel('Sentiment')\n",
        "plt.ylabel('Text Length')\n",
        "plt.show()\n",
        "\n"
      ]
    },
    {
      "cell_type": "code",
      "execution_count": null,
      "metadata": {
        "collapsed": true,
        "id": "DSmkbEr9Agv0"
      },
      "outputs": [],
      "source": [
        "# This cell performs an analysis that may take some time to complete.\n",
        "# You may choose not to run this cell if you prefer.\n",
        "\n",
        "# Check if the wordcloud library is installed\n",
        "try:\n",
        "    import wordcloud\n",
        "except ImportError:\n",
        "    print(\"The wordcloud library is not installed. The word cloud analysis will not be executed.\")\n",
        "    wordcloud_installed = False\n",
        "else:\n",
        "    wordcloud_installed = True\n",
        "\n",
        "# Function to generate word cloud (optional)\n",
        "def generate_wordcloud(texts, title):\n",
        "    if not wordcloud_installed:\n",
        "        return\n",
        "    words = ' '.join(texts).lower()\n",
        "    words = ' '.join([word for word in words.split() if word not in stopwords.words('english')])\n",
        "\n",
        "    wordcloud = WordCloud(width=800, height=400, background_color='white').generate(words)\n",
        "\n",
        "    plt.figure(figsize=(12, 6))\n",
        "    plt.imshow(wordcloud, interpolation='bilinear')\n",
        "    plt.title(f'Word Cloud of {title}')\n",
        "    plt.axis('off')\n",
        "    plt.show()\n",
        "\n",
        "# Example of how to use the function (optional)\n",
        "if wordcloud_installed:\n",
        "    generate_wordcloud(df[df['label'] == 0]['text'], 'Negative Reviews')\n",
        "    generate_wordcloud(df[df['label'] == 1]['text'], 'Positive Reviews')\n",
        "\n",
        "\n",
        "\n",
        "\n"
      ]
    }
  ],
  "metadata": {
    "colab": {
      "provenance": []
    },
    "kernelspec": {
      "display_name": "Python 3",
      "name": "python3"
    },
    "language_info": {
      "name": "python"
    }
  },
  "nbformat": 4,
  "nbformat_minor": 0
}